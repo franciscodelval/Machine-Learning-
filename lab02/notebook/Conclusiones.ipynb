{
 "cells": [
  {
   "cell_type": "markdown",
   "metadata": {},
   "source": [
    "## CONCLUSIONES "
   ]
  },
  {
   "cell_type": "markdown",
   "metadata": {},
   "source": [
    "-------"
   ]
  },
  {
   "cell_type": "markdown",
   "metadata": {},
   "source": [
    "En conclusión, se podría decir, basándonos en la experiencia trabajando con los diferetes modelos, que según qué modelo, es más sensible a unas variables u otras. Es decir, al principio, cuando elegimos unas variables determinadas, obtuvimos un accuracy  muy distinto al que hemos obtenido ahora, tras estudiar a fondo las variables y las posibles consecuencias que podrían tener. \n",
    "\n",
    "Por lo tanto, según qué modelo se elija es mayor o menor su precisión y parece que unas variables u otras tienen un mayor o menor peso. Esto lo hemo comprobado por ejemplo en el modelo SVM, en el cual hemos tenido resultados muy diferentes con respecto de los otros modelos. \n",
    "\n",
    "Cabría resaltar también, la importancia de hiperparametrizar, para hacer nuestros modelos más precisos, tales como el Random Forest, al cual se le han asignado un total de 1000 árboles para su análisis.\n",
    "\n",
    "La parte más comprometida de nuestro proyecto ha sido la exploración de las variables y su tratamiento. Hemos tenido durante todo el trabajo como prioridad la limpieza de las variables, con el fin de poder trabajar con ellas de la mejor forma posible, pero también sin perder el sentido y el propósito último. \n",
    "\n",
    "El objetivo principal es predecir si se concede o no un préstamo a un cliente en un banco. Esto nos llevaba a pensar que serían muy pocas las variables que deberíamos tener en cuenta, no obstante, esto nos ha hecho descubrir que realmente hay mucha información que podría ser útil y que mediante la generación de algoritmos o modelos de Machine Learning podrímos optimizar mucho más este trabajo, acaparando una mayor cantidad de información y por tanto barajando más parámetros para la tomadedecisión. \n",
    "\n",
    "Este proceso, bien optimizado, podría ahorrar mucho tiempo y costes en un banco, permitiendo tomar la decisión de una forma más justa, permitiendo valorar más aspectos de cada cliente y por tanto pudiendo generar menos fallos en la asignación. \n",
    "\n",
    "Después de valorar cada modelo, la precisión obtenida en cada modelo ha sido:\n",
    "\n",
    "* SVM: 76%\n",
    "* Random Forest: 74%\n",
    "* Logístico: 74%\n",
    "* Xgboost: 76%\n",
    "\n",
    "Por lo tanto, el modelo que hemos elegido como ganador para nuestro proyecto ha sido el de \"Random Forest\", porque consideramos que es el mejor clasificador, teniendo en cuenta que todos los resultado son bastante similares."
   ]
  }
 ],
 "metadata": {
  "kernelspec": {
   "display_name": "lendingClub_env",
   "language": "python",
   "name": "lendingclub_env"
  },
  "language_info": {
   "codemirror_mode": {
    "name": "ipython",
    "version": 3
   },
   "file_extension": ".py",
   "mimetype": "text/x-python",
   "name": "python",
   "nbconvert_exporter": "python",
   "pygments_lexer": "ipython3",
   "version": "3.8.5"
  }
 },
 "nbformat": 4,
 "nbformat_minor": 4
}
