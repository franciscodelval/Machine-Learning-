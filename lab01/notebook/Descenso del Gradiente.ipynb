{
 "cells": [
  {
   "cell_type": "markdown",
   "metadata": {},
   "source": [
    "### Descenso del Gradiente "
   ]
  },
  {
   "cell_type": "markdown",
   "metadata": {},
   "source": [
    "El descenso de gradiente es un algoritmo de optimizacion que sirve para encontrar el minimo de una función.\n",
    "\n",
    "Para realizar el algoritmo se utilizara el lenguaje Python junto con las librerias pandas, numpy, matplotlib y seabon.\n"
   ]
  },
  {
   "cell_type": "markdown",
   "metadata": {},
   "source": [
    "### Autor"
   ]
  },
  {
   "cell_type": "markdown",
   "metadata": {},
   "source": [
    "**Francisco del Val Yagüe** "
   ]
  },
  {
   "cell_type": "markdown",
   "metadata": {},
   "source": [
    "### Fecha "
   ]
  },
  {
   "cell_type": "markdown",
   "metadata": {},
   "source": [
    "13/11/2020"
   ]
  },
  {
   "cell_type": "markdown",
   "metadata": {},
   "source": [
    "### Objetivos "
   ]
  },
  {
   "cell_type": "markdown",
   "metadata": {},
   "source": [
    "El objetivo es comprender el funcionamiento del algoritmo de descendo de gradeintes usando código Python "
   ]
  },
  {
   "cell_type": "markdown",
   "metadata": {},
   "source": [
    "###  Descripción "
   ]
  },
  {
   "cell_type": "markdown",
   "metadata": {},
   "source": [
    "En los datos, tenemos registros de la puntuación de dos exámenes de solicitantes anteriores y etiqueta si el solicitante obtuvo la admisión o no (1 → si obtuvo la admisión y 0 → en caso contrario).\n",
    "\n",
    "NumPy es el único paquete que usaremos para implementar el algoritmo de regresión logística. Todos los demás solo nos ayudarán con pequeñas tareas, como visualizar los datos disponibles o crear un conjunto de datos. Por lo tanto, no utilizaremos paquetes de soluciones ya implementados para la regresión logística."
   ]
  },
  {
   "cell_type": "markdown",
   "metadata": {},
   "source": [
    "### IMPORTACIÓN DE LIBRERIAS "
   ]
  },
  {
   "cell_type": "code",
   "execution_count": 130,
   "metadata": {},
   "outputs": [],
   "source": [
    "# Librerias:\n",
    "import numpy as np\n",
    "import pandas as pd\n",
    "import seaborn as sns\n",
    "from seaborn import lmplot\n",
    "import matplotlib.pyplot as plt\n",
    "%matplotlib inline"
   ]
  },
  {
   "cell_type": "markdown",
   "metadata": {},
   "source": [
    "### CARGA Y VISUALIZACIÓN BASE DE DATOS"
   ]
  },
  {
   "cell_type": "code",
   "execution_count": 131,
   "metadata": {},
   "outputs": [],
   "source": [
    "# Carga Base de Datos :\n",
    "data = pd.read_csv('../data/4_1_data.csv')"
   ]
  },
  {
   "cell_type": "code",
   "execution_count": 132,
   "metadata": {},
   "outputs": [
    {
     "data": {
      "text/html": [
       "<div>\n",
       "<style scoped>\n",
       "    .dataframe tbody tr th:only-of-type {\n",
       "        vertical-align: middle;\n",
       "    }\n",
       "\n",
       "    .dataframe tbody tr th {\n",
       "        vertical-align: top;\n",
       "    }\n",
       "\n",
       "    .dataframe thead th {\n",
       "        text-align: right;\n",
       "    }\n",
       "</style>\n",
       "<table border=\"1\" class=\"dataframe\">\n",
       "  <thead>\n",
       "    <tr style=\"text-align: right;\">\n",
       "      <th></th>\n",
       "      <th>score-1</th>\n",
       "      <th>score-2</th>\n",
       "      <th>label</th>\n",
       "    </tr>\n",
       "  </thead>\n",
       "  <tbody>\n",
       "    <tr>\n",
       "      <th>0</th>\n",
       "      <td>34.623660</td>\n",
       "      <td>78.024693</td>\n",
       "      <td>0</td>\n",
       "    </tr>\n",
       "    <tr>\n",
       "      <th>1</th>\n",
       "      <td>30.286711</td>\n",
       "      <td>43.894998</td>\n",
       "      <td>0</td>\n",
       "    </tr>\n",
       "    <tr>\n",
       "      <th>2</th>\n",
       "      <td>35.847409</td>\n",
       "      <td>72.902198</td>\n",
       "      <td>0</td>\n",
       "    </tr>\n",
       "    <tr>\n",
       "      <th>3</th>\n",
       "      <td>60.182599</td>\n",
       "      <td>86.308552</td>\n",
       "      <td>1</td>\n",
       "    </tr>\n",
       "    <tr>\n",
       "      <th>4</th>\n",
       "      <td>79.032736</td>\n",
       "      <td>75.344376</td>\n",
       "      <td>1</td>\n",
       "    </tr>\n",
       "  </tbody>\n",
       "</table>\n",
       "</div>"
      ],
      "text/plain": [
       "     score-1    score-2  label\n",
       "0  34.623660  78.024693      0\n",
       "1  30.286711  43.894998      0\n",
       "2  35.847409  72.902198      0\n",
       "3  60.182599  86.308552      1\n",
       "4  79.032736  75.344376      1"
      ]
     },
     "execution_count": 132,
     "metadata": {},
     "output_type": "execute_result"
    }
   ],
   "source": [
    "# vemos las primeras filas \n",
    "data.head()"
   ]
  },
  {
   "cell_type": "code",
   "execution_count": 133,
   "metadata": {},
   "outputs": [
    {
     "data": {
      "text/html": [
       "<div>\n",
       "<style scoped>\n",
       "    .dataframe tbody tr th:only-of-type {\n",
       "        vertical-align: middle;\n",
       "    }\n",
       "\n",
       "    .dataframe tbody tr th {\n",
       "        vertical-align: top;\n",
       "    }\n",
       "\n",
       "    .dataframe thead th {\n",
       "        text-align: right;\n",
       "    }\n",
       "</style>\n",
       "<table border=\"1\" class=\"dataframe\">\n",
       "  <thead>\n",
       "    <tr style=\"text-align: right;\">\n",
       "      <th></th>\n",
       "      <th>score-1</th>\n",
       "      <th>score-2</th>\n",
       "      <th>label</th>\n",
       "    </tr>\n",
       "  </thead>\n",
       "  <tbody>\n",
       "    <tr>\n",
       "      <th>95</th>\n",
       "      <td>83.489163</td>\n",
       "      <td>48.380286</td>\n",
       "      <td>1</td>\n",
       "    </tr>\n",
       "    <tr>\n",
       "      <th>96</th>\n",
       "      <td>42.261701</td>\n",
       "      <td>87.103851</td>\n",
       "      <td>1</td>\n",
       "    </tr>\n",
       "    <tr>\n",
       "      <th>97</th>\n",
       "      <td>99.315009</td>\n",
       "      <td>68.775409</td>\n",
       "      <td>1</td>\n",
       "    </tr>\n",
       "    <tr>\n",
       "      <th>98</th>\n",
       "      <td>55.340018</td>\n",
       "      <td>64.931938</td>\n",
       "      <td>1</td>\n",
       "    </tr>\n",
       "    <tr>\n",
       "      <th>99</th>\n",
       "      <td>74.775893</td>\n",
       "      <td>89.529813</td>\n",
       "      <td>1</td>\n",
       "    </tr>\n",
       "  </tbody>\n",
       "</table>\n",
       "</div>"
      ],
      "text/plain": [
       "      score-1    score-2  label\n",
       "95  83.489163  48.380286      1\n",
       "96  42.261701  87.103851      1\n",
       "97  99.315009  68.775409      1\n",
       "98  55.340018  64.931938      1\n",
       "99  74.775893  89.529813      1"
      ]
     },
     "execution_count": 133,
     "metadata": {},
     "output_type": "execute_result"
    }
   ],
   "source": [
    "# vemos las ultimos filas \n",
    "data.tail()"
   ]
  },
  {
   "cell_type": "code",
   "execution_count": 134,
   "metadata": {},
   "outputs": [
    {
     "name": "stdout",
     "output_type": "stream",
     "text": [
      "<class 'pandas.core.frame.DataFrame'>\n",
      "RangeIndex: 100 entries, 0 to 99\n",
      "Data columns (total 3 columns):\n",
      " #   Column   Non-Null Count  Dtype  \n",
      "---  ------   --------------  -----  \n",
      " 0   score-1  100 non-null    float64\n",
      " 1   score-2  100 non-null    float64\n",
      " 2   label    100 non-null    int64  \n",
      "dtypes: float64(2), int64(1)\n",
      "memory usage: 2.5 KB\n"
     ]
    }
   ],
   "source": [
    "data.info()"
   ]
  },
  {
   "cell_type": "code",
   "execution_count": 135,
   "metadata": {},
   "outputs": [
    {
     "data": {
      "image/png": "[encoded data removed]",
      "text/plain": [
       "<Figure size 432x288 with 1 Axes>"
      ]
     },
     "metadata": {
      "needs_background": "light"
     },
     "output_type": "display_data"
    }
   ],
   "source": [
    "scores = data[['score-1', 'score-2']].values # usamos values para crear una lista con las puntuaciones \n",
    "results = data['label'].values # creamos una lista con los resultados que pueden ser 0= no admitido o 1= admitido \n",
    "\n",
    "passed = (results == 1).reshape(100, 1) # creamos un objeto en forma matricial con resultado=1 que fueron los admitidos\n",
    "failed = (results == 0).reshape(100, 1) # creamos un objeto con resultado=0 que fueron los no admitidos\n",
    "\n",
    "# creamos un grafico (scaterplot) donde representmos los objetos admitidos en azul con '.' y no admitidos en rojo con'x'\n",
    "ax = sns.scatterplot(x = scores[passed[:, 0], 0],  \n",
    "                     y = scores[passed[:, 0], 1],\n",
    "                     marker = \".\",\n",
    "                     color = \"blue\",\n",
    "                     s = 80)\n",
    "sns.scatterplot(x = scores[failed[:, 0], 0],\n",
    "                    y = scores[failed[:, 0], 1],\n",
    "                    marker = \"X\",\n",
    "                    color = \"red\",\n",
    "                    s = 60)\n",
    "\n",
    "ax.set(xlabel=\"Test 1 Score\", ylabel=\"Test 1 Score\") # nombres de del eje x  y  eje y \n",
    "ax.legend([\"Passed\", \"Failed\"]) # leyenda \n",
    "plt.show();"
   ]
  },
  {
   "cell_type": "markdown",
   "metadata": {},
   "source": [
    "Como podemos observar tenemos dos variables predictorias examen 1 y examen2 que los podemos clasificar de forma binaria, es decir, clase 1 o clase 0."
   ]
  },
  {
   "cell_type": "markdown",
   "metadata": {},
   "source": [
    "### FUNCIÓN SIGMOIDEA LOGÍSTICA"
   ]
  },
  {
   "cell_type": "markdown",
   "metadata": {},
   "source": [
    "Ahora aplicamos la regresion logística para entrenar un modelo, para encontrar el limite de decision optimo y hacer prediccion de clases.\n",
    "El objetivo de la regresión logística es minimizar la función de costo"
   ]
  },
  {
   "cell_type": "markdown",
   "metadata": {},
   "source": [
    "*1º) Función sigmoidea* "
   ]
  },
  {
   "cell_type": "markdown",
   "metadata": {},
   "source": [
    "Esta función es la \"activación\" para la salida de la regresión logística. Convierte una entrada continua en un valor entre cero y uno. Este valor se puede interpretar como la probabilidad de la clase o la probabilidad de que el ejemplo de entrada se clasifique positivamente. Usando esta probabilidad junto con un valor umbral, podemos obtener una predicción de etiqueta discreta."
   ]
  },
  {
   "cell_type": "code",
   "execution_count": 136,
   "metadata": {},
   "outputs": [],
   "source": [
    "def sigmoid(x):\n",
    "    return 1 / (1 + np.exp(-x))"
   ]
  },
  {
   "cell_type": "code",
   "execution_count": 137,
   "metadata": {},
   "outputs": [
    {
     "data": {
      "image/png": "[encoded data removed]",
      "text/plain": [
       "<Figure size 432x288 with 1 Axes>"
      ]
     },
     "metadata": {
      "needs_background": "light"
     },
     "output_type": "display_data"
    }
   ],
   "source": [
    "x = np.arange(-10., 10., 1) # desde -10 hast 10\n",
    "y = sigmoid(x)\n",
    "plt.plot(x,y)\n",
    "plt.show()"
   ]
  },
  {
   "cell_type": "markdown",
   "metadata": {},
   "source": [
    "*2º) Función de costo* "
   ]
  },
  {
   "cell_type": "markdown",
   "metadata": {},
   "source": [
    "La función de costo evalúa el rendimiento del modelo en los datos de entrenamiento dado un conjunto de parámetros del modelo. Aquí está la función de costo para la regresión logística."
   ]
  },
  {
   "cell_type": "code",
   "execution_count": 138,
   "metadata": {},
   "outputs": [],
   "source": [
    "def compute_cost(theta, x, y): #la funcion de costo depende de los parametros theta, x e y \n",
    "    m = len(y)  # creamos un obejto 'm' para ver el numero de observaciones=20\n",
    "    y_pred = sigmoid(np.dot(x , theta)) # y = sigma(h^0 * x)\n",
    "    error = (y * np.log(y_pred)) + ((1 - y) * np.log(1 - y_pred)) #error (toda la formula completa )\n",
    "    cost = -1 / m * sum(error) # ahora añadimos el costo \n",
    "    gradient = 1 / m * np.dot(x.transpose(), (y_pred - y)) # utilizamos la funcion gradiente para unir las funciones anteriores\n",
    "    return cost[0] , gradient "
   ]
  },
  {
   "cell_type": "markdown",
   "metadata": {},
   "source": [
    "Se reduce la salida a un único valor escalar, que es la suma del \"error\" cuantificado como una función de la diferencia entre la probabilidad de clase asignada por el modelo y la etiqueta verdadera. \n",
    "La implementación está completamente vectorizada: calcula las predicciones del modelo para todo el conjunto de datos en una declaración (sigmoide (X * theta))."
   ]
  },
  {
   "cell_type": "markdown",
   "metadata": {},
   "source": [
    "*3º) Configuracion de la funcion de costo*"
   ]
  },
  {
   "cell_type": "code",
   "execution_count": 139,
   "metadata": {},
   "outputs": [
    {
     "name": "stdout",
     "output_type": "stream",
     "text": [
      "Cost at initialization 0.693147180559946\n",
      "Gradient at initialization: [[-0.1       ]\n",
      " [-0.28122914]\n",
      " [-0.25098615]]\n"
     ]
    }
   ],
   "source": [
    "mean_scores = np.mean(scores, axis=0) # media de los resultados\n",
    "std_scores = np.std(scores, axis=0) # desviacion tipica de los resultados\n",
    "scores = (scores - mean_scores) / std_scores # normalizamos \n",
    "\n",
    "rows = scores.shape[0] # numeros de filas \n",
    "cols = scores.shape[1] # numero de columnas \n",
    "\n",
    "X = np.append(np.ones((rows, 1)), scores, axis=1) # se incluye un termino independiente que tiene solo 1 \n",
    "y = results.reshape(rows, 1) # ahora colocamos los resultados de forma matricial con 0 y 1 \n",
    "\n",
    "theta_init = np.zeros((cols + 1, 1)) # devuelve una matriz de 0 con los parametros del principio  \n",
    "cost, gradient = compute_cost(theta_init, X, y) # devuelve el cosoto con el objeto theta_init\n",
    "\n",
    "print(\"Cost at initialization\", cost) # imprimo el costo inicial\n",
    "print(\"Gradient at initialization:\", gradient) # imprimo los parametros del theta inicial"
   ]
  },
  {
   "cell_type": "markdown",
   "metadata": {},
   "source": [
    "*4º) Función Cálculo Gradiente*"
   ]
  },
  {
   "cell_type": "markdown",
   "metadata": {},
   "source": [
    "Ahora escribimos una función que calcule el gradiente de los parámetros para saber cómo cambiar los parámetros para poder mejorar el resultado del modelo en el entrenamiento. \n",
    "\n",
    "Con el descenso de gradiente no solo cambiamos aleatoriamente los valores de los parámetros para ver qué funciona mejor. En cada iteración de entrenamiento, actualizamos los parámetros de una manera que está garantizada para moverlos en una dirección que reduce el error de entrenamiento (costo). Podemos hacer esto porque la función de costo es diferenciable."
   ]
  },
  {
   "cell_type": "code",
   "execution_count": 140,
   "metadata": {},
   "outputs": [],
   "source": [
    "def gradient_descent(x, y, theta, alpha, iterations): # descenso de gradiente esta en funcion de x, y, theta, alpha, iteraciones\n",
    "    costs = [] \n",
    "    for i in range(iterations): # hacemos un bucle para iterarse un numero de veces \n",
    "        cost, gradient = compute_cost(theta, x, y) # a medida que se baja en el gradiente, se minima el coste \n",
    "        theta -= (alpha * gradient) # Alpha: tasa de aprendizaje del algoritmo. se multiplica * gradiente en funcion de theta \n",
    "        costs.append(cost) # creamos una unica lista\n",
    "    return theta, costs # devuelveme theta , costs"
   ]
  },
  {
   "cell_type": "code",
   "execution_count": 141,
   "metadata": {},
   "outputs": [],
   "source": [
    "# Inicializamos theta y el costo con una tasa de aprendizaje (alfa)=0.2 y 1000 iteraciones\n",
    "theta, costs = gradient_descent(X, y, theta_init, 0.2, 1000)\n"
   ]
  },
  {
   "cell_type": "code",
   "execution_count": 142,
   "metadata": {},
   "outputs": [
    {
     "name": "stdout",
     "output_type": "stream",
     "text": [
      "Theta after running gradient descent: [[1.50585952]\n",
      " [3.54128745]\n",
      " [3.28843515]]\n",
      "Resulting cost: 0.20491465131609612\n"
     ]
    }
   ],
   "source": [
    "# imprimimos \n",
    "print(\"Theta after running gradient descent:\", theta)\n",
    "print(\"Resulting cost:\", costs[-1])"
   ]
  },
  {
   "cell_type": "markdown",
   "metadata": {},
   "source": [
    "####  GRÁFICO THETA FRENTE AL NÚMERO DE ITERCIONES "
   ]
  },
  {
   "cell_type": "code",
   "execution_count": 143,
   "metadata": {},
   "outputs": [
    {
     "data": {
      "image/png": "[encoded data removed]",
      "text/plain": [
       "<Figure size 432x288 with 1 Axes>"
      ]
     },
     "metadata": {
      "needs_background": "light"
     },
     "output_type": "display_data"
    }
   ],
   "source": [
    "plt.plot(costs)\n",
    "plt.xlabel(\"Iterations\")\n",
    "plt.ylabel(\"$J(\\Theta)$\")\n",
    "plt.title(\"Values of Cost Function over iterations of Gradient Descent\");"
   ]
  },
  {
   "cell_type": "markdown",
   "metadata": {},
   "source": [
    "Alrededor de 500 iteraciones, el costo es fijo, por lo que las iteraciones restantes no son necesarias o no darán como resultado ninguna optimización adicional. "
   ]
  },
  {
   "cell_type": "markdown",
   "metadata": {},
   "source": [
    "### REFERENCIAS "
   ]
  },
  {
   "cell_type": "markdown",
   "metadata": {},
   "source": [
    "* https://towardsdatascience.com/gradient-descent-in-python-a0d07285742f\n",
    "* https://towardsdatascience.com/implement-gradient-descent-in-python-9b93ed7108d1\n",
    "* https://github.com/lmntrixsid/Linear-and-Logistic-Regression-with-NumPy-and-Python/blob/master/Logistic_Regression_Completed.ipynb\n",
    "* https://www.ellaberintodefalken.com/2019/03/regresion-lineal-descenso-de-gradiente.html\n"
   ]
  }
 ],
 "metadata": {
  "kernelspec": {
   "display_name": "gradiente",
   "language": "python",
   "name": "gradiente"
  },
  "language_info": {
   "codemirror_mode": {
    "name": "ipython",
    "version": 3
   },
   "file_extension": ".py",
   "mimetype": "text/x-python",
   "name": "python",
   "nbconvert_exporter": "python",
   "pygments_lexer": "ipython3",
   "version": "3.8.5"
  }
 },
 "nbformat": 4,
 "nbformat_minor": 4
}
